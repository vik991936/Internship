{
 "cells": [
  {
   "cell_type": "markdown",
   "id": "5949ae01",
   "metadata": {},
   "source": [
    "     Python program to find the factorial of a number provided by the user."
   ]
  },
  {
   "cell_type": "code",
   "execution_count": 8,
   "id": "57fca210",
   "metadata": {},
   "outputs": [
    {
     "name": "stdout",
     "output_type": "stream",
     "text": [
      "Enter a number: 10\n",
      "The factorial of 10 is 3628800\n"
     ]
    }
   ],
   "source": [
    "# To take input from the user\n",
    "num = int(input(\"Enter a number: \"))\n",
    "\n",
    "x = 1\n",
    "\n",
    "# Check if the number is negative, positive or zero\n",
    "if num < 0:\n",
    "    print(\"Sorry, factorial does not exist for negative numbers\")\n",
    "elif num == 0:\n",
    "    print(\"The factorial of 0 is 1\")\n",
    "else:\n",
    "    for i in range(1,num + 1):\n",
    "        x = x*i\n",
    "print(\"The factorial of\",num,\"is\",x)\n"
   ]
  },
  {
   "cell_type": "markdown",
   "id": "380e555c",
   "metadata": {},
   "source": [
    "Python program to find the factorial of a number provided by the user using factioral function."
   ]
  },
  {
   "cell_type": "code",
   "execution_count": 11,
   "id": "c21ff84d",
   "metadata": {},
   "outputs": [
    {
     "name": "stdout",
     "output_type": "stream",
     "text": [
      "Input a number to compute the factiorial : 10\n",
      "3628800\n"
     ]
    }
   ],
   "source": [
    "def factorial(n):\n",
    "    if n == 0:\n",
    "        return 1\n",
    "    elif n < 0:\n",
    "        return print(\"Sorry, factorial does not exist for negative numbers\")\n",
    "    else:\n",
    "        return n * factorial(n-1)\n",
    "n=int(input(\"Input a number to compute the factiorial : \"))\n",
    "print(factorial(n))\n"
   ]
  },
  {
   "cell_type": "code",
   "execution_count": null,
   "id": "66838396",
   "metadata": {},
   "outputs": [],
   "source": []
  }
 ],
 "metadata": {
  "kernelspec": {
   "display_name": "Python 3",
   "language": "python",
   "name": "python3"
  },
  "language_info": {
   "codemirror_mode": {
    "name": "ipython",
    "version": 3
   },
   "file_extension": ".py",
   "mimetype": "text/x-python",
   "name": "python",
   "nbconvert_exporter": "python",
   "pygments_lexer": "ipython3",
   "version": "3.8.8"
  }
 },
 "nbformat": 4,
 "nbformat_minor": 5
}
